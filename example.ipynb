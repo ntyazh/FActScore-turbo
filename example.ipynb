{
 "cells": [
  {
   "cell_type": "code",
   "execution_count": null,
   "metadata": {},
   "outputs": [],
   "source": [
    "import os\n",
    "os.environ['EMBEDDINGS_API_KEY'] = ...\n",
    "os.environ[\"EMBEDDINGS_PROXY\"] = ... # if none is used, then pass \"None\"\n",
    "os.environ['COMPLETIONS_API_KEY'] = ...\n",
    "os.environ['COMPLETIONS_PROXY'] = ... # if none is used, then pass \"None\""
   ]
  },
  {
   "cell_type": "code",
   "execution_count": null,
   "metadata": {},
   "outputs": [
    {
     "name": "stderr",
     "output_type": "stream",
     "text": [
      "[nltk_data] Downloading package punkt to /home/n.tyazhova/nltk_data...\n",
      "[nltk_data]   Package punkt is already up-to-date!\n",
      "/data1/n.tyazhova/factscore_project/factscore_venv/lib/python3.12/site-packages/tqdm/auto.py:21: TqdmWarning: IProgress not found. Please update jupyter and ipywidgets. See https://ipywidgets.readthedocs.io/en/stable/user_install.html\n",
      "  from .autonotebook import tqdm as notebook_tqdm\n"
     ]
    },
    {
     "name": "stdout",
     "output_type": "stream",
     "text": [
      "DB registered\n"
     ]
    }
   ],
   "source": [
    "from factscore.factscorer import FactScorer\n",
    "\n",
    "fs = FactScorer(completions_request_url=..., \n",
    "                completions_model_name=\"Qwen/Qwen2.5-72B-Instruct\",\n",
    "                embedding_request_url=...,\n",
    "                embedding_model_name=\"text-embedding-3-small\",\n",
    "                )\n",
    "\n",
    "'''\n",
    "about urls: if you use openai server, url = \"https://api.openai.com/v1/{embeddings or chat/completions depending on the task}\"\n",
    "if you use deepinfra server, url = \"https://api.deepinfra.com/v1/openai/{embeddings or chat/completions}\"\n",
    "if you use vllm to serve llm locally, url = \"http://localhost:8000/v1/{embeddings or chat/completions}\"\n",
    "'''\n",
    "\n",
    "await fs.register_knowledge_source(data_db=...,\n",
    "                                   table_name=...,\n",
    "                                   faiss_index=...\n",
    "                                   )"
   ]
  },
  {
   "cell_type": "code",
   "execution_count": 5,
   "metadata": {},
   "outputs": [
    {
     "data": {
      "text/plain": [
       "dict_keys(['score', 'decisions', 'num_facts_per_response', 'scores', 'char_level_facts_spans', 'passages'])"
      ]
     },
     "execution_count": 5,
     "metadata": {},
     "output_type": "execute_result"
    }
   ],
   "source": [
    "gen1 = \"\"\"\n",
    "Tomography is imaging by sections or sectioning that uses any kind of penetrating wave. The method is used in radiology, archaeology, biology, atmospheric science, geophysics, oceanography, plasma physics, materials science, cosmochemistry, astrophysics, quantum information, and other areas of science. \n",
    "In many cases, the production of these images is based on the mathematical procedure tomographic reconstruction, such as X-ray computed tomography technically being produced from multiple projectional radiographs. Many different reconstruction algorithms exist. Most algorithms fall into one of two categories: filtered back projection (FBP) and iterative reconstruction (IR). These procedures give inexact results: they represent a compromise between accuracy and computation time required. FBP demands fewer computational resources, while IR generally produces fewer artifacts (errors in the reconstruction) at a higher computing cost.\n",
    "\"\"\"\n",
    "gen2 = \"\"\"Tomography is an x-ray technique in which shadows of superimposed structures are blurred out by a moving x-ray tube. Conventional tomography is now less commonly used because of the availability of cross-sectional imaging techniques such as US, CT, and MRI. There are 2 basic types of tomography: linear and nonlinear. In both techniques, the tube moves in one direction while the film cassette moves in the opposite direction, with both motions centered around a fulcrum.\"\"\"\n",
    "\n",
    "res = await fs.get_score(generations=[gen1, gen2], topics=['tomography', 'tomography'])\n",
    "res.keys()"
   ]
  },
  {
   "cell_type": "code",
   "execution_count": 6,
   "metadata": {},
   "outputs": [
    {
     "data": {
      "text/plain": [
       "(0.6730769230769231, [0.9615384615384616, 0.38461538461538464])"
      ]
     },
     "execution_count": 6,
     "metadata": {},
     "output_type": "execute_result"
    }
   ],
   "source": [
    "res['score'], res['scores']"
   ]
  },
  {
   "cell_type": "code",
   "execution_count": 7,
   "metadata": {},
   "outputs": [
    {
     "data": {
      "text/plain": [
       "[[{'atom': 'Tomography is imaging by sections or sectioning',\n",
       "   'is_supported': True},\n",
       "  {'atom': 'Tomography uses any kind of penetrating wave .',\n",
       "   'is_supported': True},\n",
       "  {'atom': 'The method is used in radiology', 'is_supported': True},\n",
       "  {'atom': 'The method is used in archaeology', 'is_supported': True},\n",
       "  {'atom': 'The method is used in biology', 'is_supported': True},\n",
       "  {'atom': 'The method is used in atmospheric science', 'is_supported': True},\n",
       "  {'atom': 'The method is used in geophysics', 'is_supported': True},\n",
       "  {'atom': 'The method is used in oceanography', 'is_supported': True},\n",
       "  {'atom': 'The method is used in plasma physics', 'is_supported': True},\n",
       "  {'atom': 'The method is used in materials science', 'is_supported': True},\n",
       "  {'atom': 'The method is used in cosmochemistry', 'is_supported': False},\n",
       "  {'atom': 'The method is used in astrophysics', 'is_supported': True},\n",
       "  {'atom': 'The method is used in quantum information', 'is_supported': True},\n",
       "  {'atom': 'The method is used in other areas of science .',\n",
       "   'is_supported': True},\n",
       "  {'atom': 'In many cases, the production of these images is based on the mathematical procedure tomographic reconstruction',\n",
       "   'is_supported': True},\n",
       "  {'atom': 'X-ray computed tomography technically being produced from multiple projectional radiographs .',\n",
       "   'is_supported': True},\n",
       "  {'atom': 'Many different reconstruction algorithms exist .',\n",
       "   'is_supported': True},\n",
       "  {'atom': 'Most algorithms fall into one of two categories',\n",
       "   'is_supported': True},\n",
       "  {'atom': 'Filtered back projection (FBP) is one category',\n",
       "   'is_supported': True},\n",
       "  {'atom': 'Iterative reconstruction (IR) is the other category .',\n",
       "   'is_supported': True},\n",
       "  {'atom': 'These procedures give inexact results', 'is_supported': True},\n",
       "  {'atom': 'They represent a compromise between accuracy and computation time required .',\n",
       "   'is_supported': True},\n",
       "  {'atom': 'FBP demands fewer computational resources', 'is_supported': True},\n",
       "  {'atom': 'IR generally produces fewer artifacts', 'is_supported': True},\n",
       "  {'atom': 'Artifacts are errors in the reconstruction', 'is_supported': True},\n",
       "  {'atom': 'IR has a higher computing cost .', 'is_supported': True}],\n",
       " [{'atom': 'Tomography is an x-ray technique', 'is_supported': False},\n",
       "  {'atom': 'Shadows of superimposed structures are blurred out by a moving x-ray tube .',\n",
       "   'is_supported': True},\n",
       "  {'atom': 'Conventional tomography is now less commonly used',\n",
       "   'is_supported': True},\n",
       "  {'atom': 'The availability of cross-sectional imaging techniques such as US, CT, and MRI is a reason for the decreased use of conventional tomography',\n",
       "   'is_supported': True},\n",
       "  {'atom': 'US is a cross-sectional imaging technique', 'is_supported': False},\n",
       "  {'atom': 'CT is a cross-sectional imaging technique', 'is_supported': True},\n",
       "  {'atom': 'MRI is a cross-sectional imaging technique .',\n",
       "   'is_supported': False},\n",
       "  {'atom': 'There are 2 basic types of tomography', 'is_supported': False},\n",
       "  {'atom': 'Linear is a type of tomography', 'is_supported': False},\n",
       "  {'atom': 'Nonlinear is a type of tomography .', 'is_supported': False},\n",
       "  {'atom': 'In both techniques, the tube moves in one direction',\n",
       "   'is_supported': False},\n",
       "  {'atom': 'In both techniques, the film cassette moves in the opposite direction',\n",
       "   'is_supported': True},\n",
       "  {'atom': 'Both motions are centered around a fulcrum .',\n",
       "   'is_supported': False}]]"
      ]
     },
     "execution_count": 7,
     "metadata": {},
     "output_type": "execute_result"
    }
   ],
   "source": [
    "res['decisions']"
   ]
  }
 ],
 "metadata": {
  "kernelspec": {
   "display_name": "factscore_venv",
   "language": "python",
   "name": "python3"
  },
  "language_info": {
   "codemirror_mode": {
    "name": "ipython",
    "version": 3
   },
   "file_extension": ".py",
   "mimetype": "text/x-python",
   "name": "python",
   "nbconvert_exporter": "python",
   "pygments_lexer": "ipython3",
   "version": "3.12.7"
  }
 },
 "nbformat": 4,
 "nbformat_minor": 2
}
