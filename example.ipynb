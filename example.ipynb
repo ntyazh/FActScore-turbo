{
 "cells": [
  {
   "cell_type": "code",
   "execution_count": null,
   "metadata": {},
   "outputs": [],
   "source": [
    "import os\n",
    "os.environ['EMBEDDINGS_API_KEY'] = ...\n",
    "os.environ[\"EMBEDDINGS_PROXY\"] = ... # if no proxy is used, then pass \"None\"\n",
    "os.environ['COMPLETIONS_API_KEY'] = ...\n",
    "os.environ['COMPLETIONS_PROXY'] = ... # if no proxy is used, then pass \"None\""
   ]
  },
  {
   "cell_type": "code",
   "execution_count": 14,
   "metadata": {},
   "outputs": [],
   "source": [
    "from factscore.factscorer import FactScorer\n",
    "\n",
    "fs = FactScorer(completions_request_url=\"https://api.openai.com/v1/chat/completions\",\n",
    "                completions_model_name=\"gpt-4o-mini\",\n",
    "                embeddings_request_url=\"https://api.openai.com/v1/embeddings\",\n",
    "                embeddings_model_name=\"text-embedding-3-small\",\n",
    "                )\n",
    "fs.register_knowledge_source(data_db=\"enwiki-20230401.db\",\n",
    "                            table_name=\"sorted_documents2\",\n",
    "                            faiss_index=\"faiss_indexes2/all_vecs.index\"\n",
    "                            )"
   ]
  },
  {
   "cell_type": "markdown",
   "metadata": {},
   "source": [
    "Note about urls: \n",
    "1. if you use openai server, url = \"https://api.openai.com/v1/{embeddings or chat/completions depending on the task}\"\n",
    "2. if you use vllm to serve llm locally, url = \"http://localhost:8000/v1/{embeddings or chat/completions}\""
   ]
  },
  {
   "cell_type": "code",
   "execution_count": null,
   "metadata": {},
   "outputs": [],
   "source": [
    "gen1 = \"\"\"\n",
    "Tomography is imaging by sections or sectioning that uses any kind of penetrating wave. The method is used in radiology, archaeology, biology, atmospheric science, geophysics, oceanography, plasma physics, materials science, cosmochemistry, astrophysics, quantum information, and other areas of science. \n",
    "In many cases, the production of these images is based on the mathematical procedure tomographic reconstruction, such as X-ray computed tomography technically being produced from multiple projectional radiographs. Many different reconstruction algorithms exist. Most algorithms fall into one of two categories: filtered back projection (FBP) and iterative reconstruction (IR). These procedures give inexact results: they represent a compromise between accuracy and computation time required. FBP demands fewer computational resources, while IR generally produces fewer artifacts (errors in the reconstruction) at a higher computing cost.\n",
    "\"\"\"\n",
    "gen2 = \"\"\"\n",
    "Tomography is an x-ray technique in which shadows of superimposed structures are blurred out by a moving x-ray tube. Conventional tomography is now less commonly used because of the availability of cross-sectional imaging techniques such as US, CT, and MRI. There are 2 basic types of tomography: linear and nonlinear. In both techniques, the tube moves in one direction while the film cassette moves in the opposite direction, with both motions centered around a fulcrum.\n",
    "\"\"\"\n",
    "\n",
    "res = await fs.get_score(generations=[gen1, gen2],\n",
    "                        #  topics=['tomography', 'tomography'],\n",
    "                         k=3, n=5)"
   ]
  },
  {
   "cell_type": "code",
   "execution_count": 16,
   "metadata": {},
   "outputs": [
    {
     "name": "stdout",
     "output_type": "stream",
     "text": [
      "decisions for the 0 generation\n",
      "{'atom': 'Tomography is imaging by sections or sectioning that uses any kind of penetrating wave', 'is_supported': True, 'span': (1, 87)}\n",
      "{'atom': 'The method of tomography is used in radiology', 'is_supported': True, 'span': (89, 120)}\n",
      "{'atom': 'The method of tomography is used in archaeology', 'is_supported': True, 'span': (122, 133)}\n",
      "{'atom': 'The method of tomography is used in biology', 'is_supported': True, 'span': (135, 142)}\n",
      "{'atom': 'The method of tomography is used in atmospheric science', 'is_supported': True, 'span': (144, 163)}\n",
      "{'atom': 'The method of tomography is used in geophysics', 'is_supported': True, 'span': (165, 175)}\n",
      "{'atom': 'The method of tomography is used in oceanography', 'is_supported': True, 'span': (177, 189)}\n",
      "{'atom': 'The method of tomography is used in plasma physics', 'is_supported': True, 'span': (191, 205)}\n",
      "{'atom': 'The method of tomography is used in materials science', 'is_supported': True, 'span': (207, 224)}\n",
      "{'atom': 'The method of tomography is used in cosmochemistry', 'is_supported': True, 'span': (226, 240)}\n",
      "{'atom': 'The method of tomography is used in astrophysics', 'is_supported': True, 'span': (242, 254)}\n",
      "{'atom': 'The method of tomography is used in quantum information', 'is_supported': True, 'span': (256, 275)}\n",
      "{'atom': 'The method of tomography is used in other areas of science .', 'is_supported': True, 'span': (277, 303)}\n",
      "{'atom': 'The production of these images is based on the mathematical procedure tomographic reconstruction', 'is_supported': True, 'span': (321, 417)}\n",
      "{'atom': 'X-ray computed tomography is technically produced from multiple projectional radiographs', 'is_supported': True, 'span': (427, 518)}\n",
      "{'atom': 'Many different reconstruction algorithms exist', 'is_supported': True, 'span': (520, 566)}\n",
      "{'atom': 'Most algorithms fall into one of two categories: filtered back projection (FBP) and iterative reconstruction (IR)', 'is_supported': True, 'span': (568, 681)}\n",
      "{'atom': 'These procedures give inexact results', 'is_supported': True, 'span': (683, 720)}\n",
      "{'atom': 'These procedures represent a compromise between accuracy and computation time required', 'is_supported': True, 'span': (722, 796)}\n",
      "{'atom': 'FBP demands fewer computational resources', 'is_supported': True, 'span': (798, 839)}\n",
      "{'atom': 'IR generally produces fewer artifacts (errors in the reconstruction) at a higher computing cost .', 'is_supported': True, 'span': (847, 942)}\n",
      "\n",
      "\n",
      "decisions for the 1 generation\n",
      "{'atom': 'Tomography is an x-ray technique in which shadows of superimposed structures are blurred out by a moving x-ray tube', 'is_supported': True, 'span': (1, 116)}\n",
      "{'atom': 'Conventional tomography is now less commonly used because of the availability of cross-sectional imaging techniques such as US, CT, and MRI', 'is_supported': True, 'span': (118, 257)}\n",
      "{'atom': 'There are 2 basic types of tomography: linear and nonlinear', 'is_supported': False, 'span': (259, 318)}\n",
      "{'atom': 'In both techniques, the tube moves in one direction while the film cassette moves in the opposite direction, with both motions centered around a fulcrum .', 'is_supported': True, 'span': (320, 472)}\n",
      "\n",
      "\n"
     ]
    }
   ],
   "source": [
    "for i, generation_decisions in enumerate(res['decisions']):\n",
    "    print(f\"decisions for the {i} generation\")\n",
    "    for decision in generation_decisions:\n",
    "        print(decision)\n",
    "    print('\\n')"
   ]
  }
 ],
 "metadata": {
  "kernelspec": {
   "display_name": "venv",
   "language": "python",
   "name": "python3"
  },
  "language_info": {
   "codemirror_mode": {
    "name": "ipython",
    "version": 3
   },
   "file_extension": ".py",
   "mimetype": "text/x-python",
   "name": "python",
   "nbconvert_exporter": "python",
   "pygments_lexer": "ipython3",
   "version": "3.12.7"
  }
 },
 "nbformat": 4,
 "nbformat_minor": 2
}
